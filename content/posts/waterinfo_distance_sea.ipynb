{
 "cells": [
  {
   "cell_type": "markdown",
   "metadata": {},
   "source": [
    "# Distances measurement stations along netwerk"
   ]
  },
  {
   "cell_type": "code",
   "execution_count": 3,
   "metadata": {},
   "outputs": [],
   "source": [
    "library(tidyverse)"
   ]
  },
  {
   "cell_type": "markdown",
   "metadata": {},
   "source": [
    "## Normalize and combine all measurement stations"
   ]
  },
  {
   "cell_type": "markdown",
   "metadata": {},
   "source": [
    "### Receivers"
   ]
  },
  {
   "cell_type": "code",
   "execution_count": 3,
   "metadata": {},
   "outputs": [],
   "source": [
    "eels <- read_csv(\"..//files//eels.csv\", col_types = cols())"
   ]
  },
  {
   "cell_type": "code",
   "execution_count": 4,
   "metadata": {},
   "outputs": [],
   "source": [
    "receivers <- eels %>% \n",
    "    select(Receiver, latitude, longitude, station) %>% \n",
    "    distinct() %>%\n",
    "    mutate(station_type = \"receiver\") %>%\n",
    "    rename(station_id = Receiver,\n",
    "           station_name = station)"
   ]
  },
  {
   "cell_type": "code",
   "execution_count": 5,
   "metadata": {},
   "outputs": [
    {
     "data": {
      "text/html": [
       "<table>\n",
       "<thead><tr><th scope=col>station_id</th><th scope=col>latitude</th><th scope=col>longitude</th><th scope=col>station_name</th><th scope=col>station_type</th></tr></thead>\n",
       "<tbody>\n",
       "\t<tr><td>VR2W-112287  </td><td>51.00588     </td><td>3.77876      </td><td>s-2          </td><td>receiver     </td></tr>\n",
       "\t<tr><td>VR2W-112297  </td><td>51.00164     </td><td>3.85695      </td><td>s-Wetteren   </td><td>receiver     </td></tr>\n",
       "\t<tr><td>VR2W-115438  </td><td>51.01680     </td><td>3.92527      </td><td>s-Wichelen   </td><td>receiver     </td></tr>\n",
       "\t<tr><td>VR2W-122325  </td><td>51.04340     </td><td>4.04783      </td><td>s-3          </td><td>receiver     </td></tr>\n",
       "\t<tr><td>VR2W-122322  </td><td>51.02032     </td><td>3.96965      </td><td>s-2a         </td><td>receiver     </td></tr>\n",
       "\t<tr><td>VR2W-112292  </td><td>51.03855     </td><td>4.11750      </td><td>s-Dendermonde</td><td>receiver     </td></tr>\n",
       "</tbody>\n",
       "</table>\n"
      ],
      "text/latex": [
       "\\begin{tabular}{r|lllll}\n",
       " station\\_id & latitude & longitude & station\\_name & station\\_type\\\\\n",
       "\\hline\n",
       "\t VR2W-112287   & 51.00588      & 3.77876       & s-2           & receiver     \\\\\n",
       "\t VR2W-112297   & 51.00164      & 3.85695       & s-Wetteren    & receiver     \\\\\n",
       "\t VR2W-115438   & 51.01680      & 3.92527       & s-Wichelen    & receiver     \\\\\n",
       "\t VR2W-122325   & 51.04340      & 4.04783       & s-3           & receiver     \\\\\n",
       "\t VR2W-122322   & 51.02032      & 3.96965       & s-2a          & receiver     \\\\\n",
       "\t VR2W-112292   & 51.03855      & 4.11750       & s-Dendermonde & receiver     \\\\\n",
       "\\end{tabular}\n"
      ],
      "text/markdown": [
       "\n",
       "station_id | latitude | longitude | station_name | station_type | \n",
       "|---|---|---|---|---|---|\n",
       "| VR2W-112287   | 51.00588      | 3.77876       | s-2           | receiver      | \n",
       "| VR2W-112297   | 51.00164      | 3.85695       | s-Wetteren    | receiver      | \n",
       "| VR2W-115438   | 51.01680      | 3.92527       | s-Wichelen    | receiver      | \n",
       "| VR2W-122325   | 51.04340      | 4.04783       | s-3           | receiver      | \n",
       "| VR2W-122322   | 51.02032      | 3.96965       | s-2a          | receiver      | \n",
       "| VR2W-112292   | 51.03855      | 4.11750       | s-Dendermonde | receiver      | \n",
       "\n",
       "\n"
      ],
      "text/plain": [
       "  station_id  latitude longitude station_name  station_type\n",
       "1 VR2W-112287 51.00588 3.77876   s-2           receiver    \n",
       "2 VR2W-112297 51.00164 3.85695   s-Wetteren    receiver    \n",
       "3 VR2W-115438 51.01680 3.92527   s-Wichelen    receiver    \n",
       "4 VR2W-122325 51.04340 4.04783   s-3           receiver    \n",
       "5 VR2W-122322 51.02032 3.96965   s-2a          receiver    \n",
       "6 VR2W-112292 51.03855 4.11750   s-Dendermonde receiver    "
      ]
     },
     "metadata": {},
     "output_type": "display_data"
    }
   ],
   "source": [
    "head(receivers)"
   ]
  },
  {
   "cell_type": "markdown",
   "metadata": {},
   "source": [
    "### Tidal stations"
   ]
  },
  {
   "cell_type": "markdown",
   "metadata": {},
   "source": [
    "Using the [tidal stations overview](https://github.com/inbo/wateRinfo/files/1483458/tij_all_identifiers.txt) as discussed on the wateRinfo [GitHub Issues](https://github.com/inbo/wateRinfo/issues/11#issuecomment-345339779):"
   ]
  },
  {
   "cell_type": "code",
   "execution_count": 8,
   "metadata": {},
   "outputs": [],
   "source": [
    "ts_id_tide <- read_csv(\"../files/scheldt_tide_waterinfo_identifiers.csv\", col_types = cols()) "
   ]
  },
  {
   "cell_type": "code",
   "execution_count": 11,
   "metadata": {},
   "outputs": [
    {
     "data": {
      "text/html": [
       "<table>\n",
       "<thead><tr><th scope=col>station_id</th><th scope=col>station_name</th><th scope=col>longitude</th><th scope=col>latitude</th><th scope=col>station_type</th></tr></thead>\n",
       "<tbody>\n",
       "\t<tr><td>dur01a-1066                 </td><td>Tielrode tij/Durme          </td><td>4.174059                    </td><td>51.10959                    </td><td>waterinfo                   </td></tr>\n",
       "\t<tr><td>zes01a-1066                 </td><td>Prosperpolder tij/Zeeschelde</td><td>4.237937                    </td><td>51.34833                    </td><td>waterinfo                   </td></tr>\n",
       "\t<tr><td>zes10a-1066                 </td><td>Liefkenshoek tij/Zeeschelde </td><td>4.286840                    </td><td>51.29659                    </td><td>waterinfo                   </td></tr>\n",
       "\t<tr><td>zes14a-1066                 </td><td>Kallosluis tij/Zeeschelde   </td><td>4.296636                    </td><td>51.26544                    </td><td>waterinfo                   </td></tr>\n",
       "\t<tr><td>zes21a-1066                 </td><td>Antwerpen tij/Zeeschelde    </td><td>4.397031                    </td><td>51.22882                    </td><td>waterinfo                   </td></tr>\n",
       "\t<tr><td>zes28a-1066                 </td><td>Hemiksem tij/Zeeschelde     </td><td>4.328803                    </td><td>51.14298                    </td><td>waterinfo                   </td></tr>\n",
       "\t<tr><td>zes36a-1066                 </td><td>Temse tij/Zeeschelde        </td><td>4.218673                    </td><td>51.12281                    </td><td>waterinfo                   </td></tr>\n",
       "\t<tr><td>zes42a-1066                 </td><td>Sint-Amands tij/Zeeschelde  </td><td>4.197214                    </td><td>51.05264                    </td><td>waterinfo                   </td></tr>\n",
       "\t<tr><td>zes47a-1066                 </td><td>Dendermonde tij/Zeeschelde  </td><td>4.103856                    </td><td>51.03456                    </td><td>waterinfo                   </td></tr>\n",
       "\t<tr><td>zes49a-1066                 </td><td>Schoonaarde tij/Zeeschelde  </td><td>4.007586                    </td><td>51.00467                    </td><td>waterinfo                   </td></tr>\n",
       "\t<tr><td>zes55a-1066                 </td><td>Wetteren tij/Zeeschelde     </td><td>3.881586                    </td><td>51.00844                    </td><td>waterinfo                   </td></tr>\n",
       "\t<tr><td>zes57a-1074                 </td><td>Melle tij                   </td><td>3.805347                    </td><td>51.00433                    </td><td>waterinfo                   </td></tr>\n",
       "</tbody>\n",
       "</table>\n"
      ],
      "text/latex": [
       "\\begin{tabular}{r|lllll}\n",
       " station\\_id & station\\_name & longitude & latitude & station\\_type\\\\\n",
       "\\hline\n",
       "\t dur01a-1066                  & Tielrode tij/Durme           & 4.174059                     & 51.10959                     & waterinfo                   \\\\\n",
       "\t zes01a-1066                  & Prosperpolder tij/Zeeschelde & 4.237937                     & 51.34833                     & waterinfo                   \\\\\n",
       "\t zes10a-1066                  & Liefkenshoek tij/Zeeschelde  & 4.286840                     & 51.29659                     & waterinfo                   \\\\\n",
       "\t zes14a-1066                  & Kallosluis tij/Zeeschelde    & 4.296636                     & 51.26544                     & waterinfo                   \\\\\n",
       "\t zes21a-1066                  & Antwerpen tij/Zeeschelde     & 4.397031                     & 51.22882                     & waterinfo                   \\\\\n",
       "\t zes28a-1066                  & Hemiksem tij/Zeeschelde      & 4.328803                     & 51.14298                     & waterinfo                   \\\\\n",
       "\t zes36a-1066                  & Temse tij/Zeeschelde         & 4.218673                     & 51.12281                     & waterinfo                   \\\\\n",
       "\t zes42a-1066                  & Sint-Amands tij/Zeeschelde   & 4.197214                     & 51.05264                     & waterinfo                   \\\\\n",
       "\t zes47a-1066                  & Dendermonde tij/Zeeschelde   & 4.103856                     & 51.03456                     & waterinfo                   \\\\\n",
       "\t zes49a-1066                  & Schoonaarde tij/Zeeschelde   & 4.007586                     & 51.00467                     & waterinfo                   \\\\\n",
       "\t zes55a-1066                  & Wetteren tij/Zeeschelde      & 3.881586                     & 51.00844                     & waterinfo                   \\\\\n",
       "\t zes57a-1074                  & Melle tij                    & 3.805347                     & 51.00433                     & waterinfo                   \\\\\n",
       "\\end{tabular}\n"
      ],
      "text/markdown": [
       "\n",
       "station_id | station_name | longitude | latitude | station_type | \n",
       "|---|---|---|---|---|---|---|---|---|---|---|---|\n",
       "| dur01a-1066                  | Tielrode tij/Durme           | 4.174059                     | 51.10959                     | waterinfo                    | \n",
       "| zes01a-1066                  | Prosperpolder tij/Zeeschelde | 4.237937                     | 51.34833                     | waterinfo                    | \n",
       "| zes10a-1066                  | Liefkenshoek tij/Zeeschelde  | 4.286840                     | 51.29659                     | waterinfo                    | \n",
       "| zes14a-1066                  | Kallosluis tij/Zeeschelde    | 4.296636                     | 51.26544                     | waterinfo                    | \n",
       "| zes21a-1066                  | Antwerpen tij/Zeeschelde     | 4.397031                     | 51.22882                     | waterinfo                    | \n",
       "| zes28a-1066                  | Hemiksem tij/Zeeschelde      | 4.328803                     | 51.14298                     | waterinfo                    | \n",
       "| zes36a-1066                  | Temse tij/Zeeschelde         | 4.218673                     | 51.12281                     | waterinfo                    | \n",
       "| zes42a-1066                  | Sint-Amands tij/Zeeschelde   | 4.197214                     | 51.05264                     | waterinfo                    | \n",
       "| zes47a-1066                  | Dendermonde tij/Zeeschelde   | 4.103856                     | 51.03456                     | waterinfo                    | \n",
       "| zes49a-1066                  | Schoonaarde tij/Zeeschelde   | 4.007586                     | 51.00467                     | waterinfo                    | \n",
       "| zes55a-1066                  | Wetteren tij/Zeeschelde      | 3.881586                     | 51.00844                     | waterinfo                    | \n",
       "| zes57a-1074                  | Melle tij                    | 3.805347                     | 51.00433                     | waterinfo                    | \n",
       "\n",
       "\n"
      ],
      "text/plain": [
       "   station_id  station_name                 longitude latitude station_type\n",
       "1  dur01a-1066 Tielrode tij/Durme           4.174059  51.10959 waterinfo   \n",
       "2  zes01a-1066 Prosperpolder tij/Zeeschelde 4.237937  51.34833 waterinfo   \n",
       "3  zes10a-1066 Liefkenshoek tij/Zeeschelde  4.286840  51.29659 waterinfo   \n",
       "4  zes14a-1066 Kallosluis tij/Zeeschelde    4.296636  51.26544 waterinfo   \n",
       "5  zes21a-1066 Antwerpen tij/Zeeschelde     4.397031  51.22882 waterinfo   \n",
       "6  zes28a-1066 Hemiksem tij/Zeeschelde      4.328803  51.14298 waterinfo   \n",
       "7  zes36a-1066 Temse tij/Zeeschelde         4.218673  51.12281 waterinfo   \n",
       "8  zes42a-1066 Sint-Amands tij/Zeeschelde   4.197214  51.05264 waterinfo   \n",
       "9  zes47a-1066 Dendermonde tij/Zeeschelde   4.103856  51.03456 waterinfo   \n",
       "10 zes49a-1066 Schoonaarde tij/Zeeschelde   4.007586  51.00467 waterinfo   \n",
       "11 zes55a-1066 Wetteren tij/Zeeschelde      3.881586  51.00844 waterinfo   \n",
       "12 zes57a-1074 Melle tij                    3.805347  51.00433 waterinfo   "
      ]
     },
     "metadata": {},
     "output_type": "display_data"
    }
   ],
   "source": [
    "ts_id_tide %>%\n",
    "    filter(grepl(\".*10min.base\", ts_name)) %>%\n",
    "    filter(!station_name %in% c(\"Walem tij/Rupel\", \"Duffel-sluis tij\", \"Lier Molbrug tij/Nete\",\n",
    "                           \"Kessel tij/Grote Nete\", \"Emblem tij/Kleine Nete\", \n",
    "                           \"Mechelen Benedensluis tij/Dijle\", \"Mechelen Stuw Opwaarts tij/Dijle\",\n",
    "                           \"Hombeek tij/Zenne\", \"Zemst tij/Zenne\", \"Gentbrugge tij/Zeeschelde\",\n",
    "                           \"Waasmunster Manta tij/Durme\")) %>% # exclude nonte-scheldt stations\n",
    "    select(station_no, station_name, \n",
    "           station_longitude, station_latitude) %>%\n",
    "    distinct() %>%\n",
    "    mutate(station_type = \"waterinfo\") %>%\n",
    "    rename(station_id = station_no,\n",
    "           longitude = station_longitude,\n",
    "           latitude = station_latitude)"
   ]
  },
  {
   "cell_type": "markdown",
   "metadata": {},
   "source": [
    "### Combine receivers and waterinfo stations"
   ]
  },
  {
   "cell_type": "code",
   "execution_count": 9,
   "metadata": {},
   "outputs": [],
   "source": [
    "stations <- bind_rows(tidal_stations, receivers)"
   ]
  },
  {
   "cell_type": "code",
   "execution_count": 55,
   "metadata": {},
   "outputs": [
    {
     "data": {
      "text/html": [
       "<table>\n",
       "<thead><tr><th scope=col>station_id</th><th scope=col>station_name</th><th scope=col>longitude</th><th scope=col>latitude</th><th scope=col>station_type</th></tr></thead>\n",
       "<tbody>\n",
       "\t<tr><td>VR2W-122336</td><td>s-4c       </td><td>4.19007    </td><td>51.07363   </td><td>receiver   </td></tr>\n",
       "\t<tr><td>VR2W-122339</td><td>s-4c       </td><td>4.19007    </td><td>51.07363   </td><td>receiver   </td></tr>\n",
       "</tbody>\n",
       "</table>\n"
      ],
      "text/latex": [
       "\\begin{tabular}{r|lllll}\n",
       " station\\_id & station\\_name & longitude & latitude & station\\_type\\\\\n",
       "\\hline\n",
       "\t VR2W-122336 & s-4c        & 4.19007     & 51.07363    & receiver   \\\\\n",
       "\t VR2W-122339 & s-4c        & 4.19007     & 51.07363    & receiver   \\\\\n",
       "\\end{tabular}\n"
      ],
      "text/markdown": [
       "\n",
       "station_id | station_name | longitude | latitude | station_type | \n",
       "|---|---|\n",
       "| VR2W-122336 | s-4c        | 4.19007     | 51.07363    | receiver    | \n",
       "| VR2W-122339 | s-4c        | 4.19007     | 51.07363    | receiver    | \n",
       "\n",
       "\n"
      ],
      "text/plain": [
       "  station_id  station_name longitude latitude station_type\n",
       "1 VR2W-122336 s-4c         4.19007   51.07363 receiver    \n",
       "2 VR2W-122339 s-4c         4.19007   51.07363 receiver    "
      ]
     },
     "metadata": {},
     "output_type": "display_data"
    }
   ],
   "source": [
    "stations %>% filter(station_name == \"s-4c\")"
   ]
  },
  {
   "cell_type": "markdown",
   "metadata": {},
   "source": [
    "## Derive internal distances stations"
   ]
  },
  {
   "cell_type": "code",
   "execution_count": 12,
   "metadata": {},
   "outputs": [],
   "source": [
    "library(sp)\n",
    "library(raster)"
   ]
  },
  {
   "cell_type": "markdown",
   "metadata": {},
   "source": [
    "Load the study area rivers/canals as a binary mask"
   ]
  },
  {
   "cell_type": "code",
   "execution_count": 13,
   "metadata": {},
   "outputs": [],
   "source": [
    "study_area <- raster(\"../files/study_area_binary.tif\")"
   ]
  },
  {
   "cell_type": "markdown",
   "metadata": {},
   "source": [
    "Convert the CRS of the stations to the CRS of the binary mask"
   ]
  },
  {
   "cell_type": "code",
   "execution_count": 14,
   "metadata": {},
   "outputs": [],
   "source": [
    "crs_mask <- CRS(\"+init=epsg:32631\") # use gdalinfo to derive the CRS\n",
    "crs_stations <- CRS(\"+init=epsg:4326\")"
   ]
  },
  {
   "cell_type": "code",
   "execution_count": 15,
   "metadata": {},
   "outputs": [],
   "source": [
    "# project coordinates\n",
    "stations_sp <- SpatialPointsDataFrame(coords = stations[, c(\"longitude\", \n",
    "                                                            \"latitude\")],\n",
    "                                      data = stations,\n",
    "                                      proj4string = crs_stations)\n",
    "stations_sp <- spTransform(stations_sp, crs_mask)"
   ]
  },
  {
   "cell_type": "markdown",
   "metadata": {},
   "source": [
    "Load the support functions to derive internal distances"
   ]
  },
  {
   "cell_type": "code",
   "execution_count": 17,
   "metadata": {},
   "outputs": [],
   "source": [
    "source('https://raw.githubusercontent.com/inbo/fish-tracking/master/scripts/receiver_distance_analysis/receiver_distance_fun.R?token=AAuErpSpvzyAyQUBCN4zLfan07fkHZ5mks5bMj8XwA%3D%3D')"
   ]
  },
  {
   "cell_type": "markdown",
   "metadata": {},
   "source": [
    "Update the binary mask for stations that fall outside the binary mask. The basic strategy is to extend the points raster point size until it overlaps with the main binary mask:"
   ]
  },
  {
   "cell_type": "code",
   "execution_count": 18,
   "metadata": {},
   "outputs": [
    {
     "name": "stdout",
     "output_type": "stream",
     "text": [
      "[1] 4\n",
      "[1] 4\n",
      "[1] 4\n",
      "[1] 4\n",
      "[1] 3\n",
      "[1] 3\n",
      "[1] 3\n",
      "[1] 3\n",
      "[1] 3\n",
      "[1] 3\n",
      "[1] 3\n",
      "[1] 3\n",
      "[1] 3\n",
      "[1] 3\n",
      "[1] 3\n",
      "[1] 3\n",
      "[1] 3\n",
      "[1] 3\n",
      "[1] 3\n",
      "[1] 3\n",
      "[1] 3\n",
      "[1] 3\n",
      "[1] 3\n",
      "[1] 3\n",
      "[1] 3\n",
      "[1] 3\n",
      "[1] 3\n",
      "[1] 3\n",
      "[1] 3\n",
      "[1] 3\n",
      "[1] 3\n",
      "[1] 3\n",
      "[1] 3\n",
      "[1] 3\n",
      "[1] 3\n",
      "[1] 3\n",
      "[1] 3\n",
      "[1] 3\n",
      "[1] 2\n",
      "[1] 2\n",
      "[1] 2\n",
      "[1] 2\n",
      "[1] 2\n",
      "[1] 2\n",
      "[1] 2\n",
      "NULL\n"
     ]
    }
   ],
   "source": [
    "study_area_binary_extended <- adapt.binarymask(study_area, stations_sp)"
   ]
  },
  {
   "cell_type": "code",
   "execution_count": 34,
   "metadata": {},
   "outputs": [],
   "source": [
    "# check on memory usage of R objects in memory\n",
    "#sort( sapply(ls(), function(x){object.size(get(x))})) "
   ]
  },
  {
   "cell_type": "markdown",
   "metadata": {},
   "source": [
    "Check if the extended mask is properly derived to extract in-network distances:"
   ]
  },
  {
   "cell_type": "code",
   "execution_count": 35,
   "metadata": {},
   "outputs": [
    {
     "data": {
      "text/html": [
       "TRUE"
      ],
      "text/latex": [
       "TRUE"
      ],
      "text/markdown": [
       "TRUE"
      ],
      "text/plain": [
       "[1] TRUE"
      ]
     },
     "metadata": {},
     "output_type": "display_data"
    }
   ],
   "source": [
    "control.mask(study_area_binary_extended, stations_sp)"
   ]
  },
  {
   "cell_type": "markdown",
   "metadata": {},
   "source": [
    "Calculate all internal distances for the stations:"
   ]
  },
  {
   "cell_type": "code",
   "execution_count": 36,
   "metadata": {},
   "outputs": [],
   "source": [
    "cst_dst_frame <- get.distance.matrix(study_area_binary_extended, stations_sp)"
   ]
  },
  {
   "cell_type": "markdown",
   "metadata": {},
   "source": [
    "Write the internal distances to file"
   ]
  },
  {
   "cell_type": "code",
   "execution_count": 69,
   "metadata": {},
   "outputs": [],
   "source": [
    "cst_dst_frame <- as.data.frame(cst_dst_frame)"
   ]
  },
  {
   "cell_type": "code",
   "execution_count": 58,
   "metadata": {},
   "outputs": [],
   "source": [
    "write_csv(cst_dst_frame, \"../files/stations_internal_distances.csv\")"
   ]
  },
  {
   "cell_type": "markdown",
   "metadata": {},
   "source": [
    "## Translate to distance from sea (i.e. reference station close to sea)"
   ]
  },
  {
   "cell_type": "markdown",
   "metadata": {},
   "source": [
    "When you do not want to reproduce the entire calculation"
   ]
  },
  {
   "cell_type": "raw",
   "metadata": {},
   "source": [
    "temp <- read_csv(\"../files/stations_internal_distances.csv\",\n",
    "                               col_types = cols(.default = col_double()))\n",
    "row.names(temp) <- colnames(temp)\n",
    "head(temp)"
   ]
  },
  {
   "cell_type": "markdown",
   "metadata": {},
   "source": [
    "Fix on station s-4c **TOFIX!**"
   ]
  },
  {
   "cell_type": "code",
   "execution_count": 77,
   "metadata": {},
   "outputs": [],
   "source": [
    "cst_dst_frame <- cst_dst_frame[, -33]"
   ]
  },
  {
   "cell_type": "code",
   "execution_count": 95,
   "metadata": {},
   "outputs": [],
   "source": [
    "cst_dst_frame %>%\n",
    "    rownames_to_column(\"STATION\") %>%\n",
    "    filter(STATION == \"ws-DL7\") %>%\n",
    "    gather(key = \"station\", value = \"distance_to_refence_station\", -STATION) %>%\n",
    "    rename(reference_station = STATION) %>%\n",
    "    arrange(distance_to_refence_station) %>%\n",
    "    inner_join(stations, by = c(\"station\" = \"station_name\")) -> distance_from_reference"
   ]
  },
  {
   "cell_type": "code",
   "execution_count": 96,
   "metadata": {},
   "outputs": [],
   "source": [
    "write_csv(distance_from_reference, \"../files/distance_from_sea.csv\")"
   ]
  },
  {
   "cell_type": "code",
   "execution_count": null,
   "metadata": {},
   "outputs": [],
   "source": []
  },
  {
   "cell_type": "code",
   "execution_count": null,
   "metadata": {},
   "outputs": [],
   "source": []
  }
 ],
 "metadata": {
  "kernelspec": {
   "display_name": "R",
   "language": "R",
   "name": "ir"
  },
  "language_info": {
   "codemirror_mode": "r",
   "file_extension": ".r",
   "mimetype": "text/x-r-source",
   "name": "R",
   "pygments_lexer": "r",
   "version": "3.4.4"
  }
 },
 "nbformat": 4,
 "nbformat_minor": 2
}
